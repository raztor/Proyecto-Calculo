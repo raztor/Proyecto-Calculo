{
 "cells": [
  {
   "cell_type": "markdown",
   "id": "4d0331c47cfa9ab6",
   "metadata": {},
   "source": [
    "## Functions for the calculations\n",
    "Pregunta 4. parte a) y c)  (Creando el programa y aplicando las formulas de error)\n"
   ]
  },
  {
   "cell_type": "code",
   "id": "fa0d9bcf12b744ac",
   "metadata": {
    "ExecuteTime": {
     "end_time": "2024-05-05T02:31:49.023418Z",
     "start_time": "2024-05-05T02:31:49.007935Z"
    }
   },
   "source": [
    "# Integral Calculation\n",
    "# Simple code to solve the integral of a function using trapezoidal and simpson's rule\n",
    "from sympy import sympify, symbols, Interval, maximum\n",
    "\n",
    "\n",
    "# calculate the integral using trapezoidal rule\n",
    "def trapezoidal_rule(f, a, b, n):\n",
    "    h = (b - a) / n\n",
    "    s = 0.5 * (f.subs(x, a) + f.subs(x, b))\n",
    "    for i in range(1, n):\n",
    "        s += f.subs(x, a + i * h)\n",
    "    return s * h\n",
    "\n",
    "\n",
    "# calculate the integral using the Simpson's rule\n",
    "def simpson_rule(f, a, b, n):\n",
    "    h = (b - a) / n\n",
    "    s = f.subs(x, a) + f.subs(x, b)\n",
    "    for i in range(1, n, 2):\n",
    "        s += 4 * f.subs(x, a + i * h)\n",
    "    for i in range(2, n - 1, 2):\n",
    "        s += 2 * f.subs(x, a + i * h)\n",
    "    return s * h / 3\n",
    "\n",
    "\n",
    "def integral_calculation(f, a, b, n):\n",
    "    # Calculate the integral using Simpson's function and trapezoidal rule function\n",
    "    integral_simpson = simpson_rule(f, a, b, n)\n",
    "    integral_trapezoidal = trapezoidal_rule(f, a, b, n)\n",
    "    return integral_simpson, integral_trapezoidal\n",
    "\n",
    "\n",
    "def error_calculation(f, a, b, n):\n",
    "    # Error calculation\n",
    "\n",
    "    # Trapezoidal rule error = E<=k*(b-a)^3/(12*n^2)\n",
    "    # Simpson's rule error = E<=k*(b-a)^5/(180*n^4)\n",
    "\n",
    "    # K is the maximum value of the second derivative for trapezoidal and fourth for Simpson's of the function\n",
    "    # on the interval [b, a]\n",
    "\n",
    "    # Calculate the derivatives of the function\n",
    "    f_2 = f.diff(x, 2)\n",
    "    f_4 = f.diff(x, 4)\n",
    "    \n",
    "    \n",
    "    # Calculate the maximum value of both derivatives on the interval [b, a] using sympy.calculus.util.maximum\n",
    "    k_trapezoidal = maximum(f_2, x, Interval(a, b))\n",
    "    k_simpson = maximum(f_4, x, Interval(a, b))\n",
    "    \n",
    "    \n",
    "    # Calculate the error\n",
    "    error_trapezoidal = k_trapezoidal * (b - a) ** 3 / (12 * n ** 2)\n",
    "    error_simpson = k_simpson * (b - a) ** 5 / (180 * n ** 4)\n",
    "    \n",
    "    \n",
    "    return error_trapezoidal, error_simpson\n"
   ],
   "outputs": [],
   "execution_count": 90
  },
  {
   "cell_type": "markdown",
   "id": "a9b905a2804752e6",
   "metadata": {},
   "source": [
    "## Calculate the integral of a function using Simpson's and trapezoidal rule with a given integral and intervals\n",
    "Respondiendo la pregunta 4. parte a) para poder calcular cualquier integral deseada"
   ]
  },
  {
   "cell_type": "code",
   "id": "4b1bdeec36f9ba46",
   "metadata": {
    "ExecuteTime": {
     "end_time": "2024-05-05T02:32:28.577170Z",
     "start_time": "2024-05-05T02:32:15.305255Z"
    }
   },
   "source": [
    "# ask if the inputs are floats and integers or strings like sin, cos tan, euler, pi\n",
    "print(\"RECUERDA ESCRIBIR * PARA MULTIPLICAR, ** para elevar Y NO DEJAR ESPACIOS ENTRE LOS VALORES\")\n",
    "print(\"para euler escriba E (en mayus), para pi escriba pi\")\n",
    "print(\"para seno escriba sin(), para coseno escriba cos(), para tangente escriba tan()\")\n",
    "print(\"para logaritmo natural escriba ln(), para logaritmo base 10 escriba log()\")\n",
    "print(\"para raiz cuadrada escriba sqrt()\")\n",
    "# Print space\n",
    "print(\"\\n\")\n",
    "arriba = input(\"Ingrese el limite superior: \")\n",
    "abajo = input(\"Ingrese el limite inferior: \")\n",
    "funcion = input(\"Ingrese la funcion a integrar: \")\n",
    "cantidad = int(input(\"Ingrese la cantidad de intervalos: \"))\n",
    "\n",
    "\n",
    "# use sympy parse to convert the string to a sympy expression (the values may include euler, pi, sin, cos, tan, ln,\n",
    "# log, sqrt)\n",
    "x = symbols('x')\n",
    "f = sympify(funcion)\n",
    "a = sympify(abajo)\n",
    "b = sympify(arriba)\n",
    "\n",
    "# Calculate the integral using Simpson's function and trapezoidal rule function\n",
    "integral_simpson_value, integral_trapezoidal_value = integral_calculation(f, a, b, cantidad)\n",
    "\n",
    "# Print the results\n",
    "print(\"El resultado de la integral con la regla de Simpson es: \", integral_simpson_value.evalf())\n",
    "print(\"El resultado de la integral con la regla del trapecio es: \", integral_trapezoidal_value.evalf())\n",
    "\n",
    "# Calculate the error\n",
    "error_trapezoidal_value, error_simpson_value = error_calculation(f, a, b, cantidad)\n",
    "print(\"El error de la regla del trapecio es: \", error_trapezoidal_value.evalf())\n",
    "print(\"El error de la regla de Simpson es: \", error_simpson_value.evalf())\n",
    "\n"
   ],
   "outputs": [
    {
     "name": "stdout",
     "output_type": "stream",
     "text": [
      "RECUERDA ESCRIBIR * PARA MULTIPLICAR, ** para elevar Y NO DEJAR ESPACIOS ENTRE LOS VALORES\n",
      "para euler escriba E (en mayus), para pi escriba pi\n",
      "para seno escriba sin(), para coseno escriba cos(), para tangente escriba tan()\n",
      "para logaritmo natural escriba ln(), para logaritmo base 10 escriba log()\n",
      "para raiz cuadrada escriba sqrt()\n",
      "\n",
      "\n",
      "El resultado de la integral con la regla de Simpson es:  37.2272062782317\n",
      "El resultado de la integral con la regla del trapecio es:  38.2928223644201\n",
      "El error de la regla del trapecio es:  0.00906060191923258\n",
      "El error de la regla de Simpson es:  9.85958081567123e-7\n"
     ]
    }
   ],
   "execution_count": 92
  },
  {
   "cell_type": "markdown",
   "id": "1aea564ac38e05f6",
   "metadata": {},
   "source": [
    "## Calculate the three given integrals using 3 increasing intervals of n.\n",
    "Respondiendo la pregunta 4. Parte b)\n",
    "\n",
    "* Integral 1: de 0 a pi con funcion sqrt(sin(x))\n",
    "* Integral 2: de 1 a 5 con funcion e^x/x\n",
    "* Integral 3: de 0 a 2 con funcion e^-x^2"
   ]
  },
  {
   "cell_type": "markdown",
   "id": "32ec0baeb8880733",
   "metadata": {},
   "source": [
    "### Integral 1: de 0 a pi con funcion sqrt(sin(x))"
   ]
  },
  {
   "cell_type": "code",
   "id": "f68c5e1365004767",
   "metadata": {
    "ExecuteTime": {
     "end_time": "2024-05-05T00:47:00.666931Z",
     "start_time": "2024-05-05T00:46:54.533277Z"
    }
   },
   "source": [
    "#Integral 1: de 0 a pi con funcion sqrt(sin(x))\n",
    "# Define the function\n",
    "f = sympify('sqrt(sin(x))')\n",
    "x = symbols('x')\n",
    "a = 0\n",
    "b = sympify('pi')\n",
    "\n",
    "# Create a for loop to calculate the integral with 3 increasing intervals of n\n",
    "for i in range(1, 4):\n",
    "    n = 10 ** i\n",
    "    integral_simpson_value, integral_trapezoidal_value = integral_calculation(f, a, b, n)\n",
    "    print(\"El resultado de la integral con la regla de Simpson con \", n, \" intervalos es: \", integral_simpson_value.evalf())\n",
    "    print(\"El resultado de la integral con la regla del trapecio con \", n, \" intervalos es: \", integral_trapezoidal_value.evalf())\n",
    "    print(\"\\n\")"
   ],
   "outputs": [
    {
     "name": "stdout",
     "output_type": "stream",
     "text": [
      "El resultado de la integral con la regla de Simpson con  10  intervalos es:  2.36774976521780\n",
      "El resultado de la integral con la regla del trapecio con  10  intervalos es:  2.32304408838008\n",
      "\n",
      "\n",
      "El resultado de la integral con la regla de Simpson con  100  intervalos es:  2.39537636329631\n",
      "El resultado de la integral con la regla del trapecio con  100  intervalos es:  2.39396530429666\n",
      "\n",
      "\n",
      "El resultado de la integral con la regla de Simpson con  1000  intervalos es:  2.39625187852818\n",
      "El resultado de la integral con la regla del trapecio con  1000  intervalos es:  2.39620725776430\n",
      "\n",
      "\n"
     ]
    }
   ],
   "execution_count": 9
  },
  {
   "cell_type": "markdown",
   "id": "122c8907b2003e2c",
   "metadata": {},
   "source": [
    "### Integral 2: de 1 a 5 con funcion e^x/x"
   ]
  },
  {
   "cell_type": "code",
   "execution_count": 17,
   "id": "a44bcd85f061a00d",
   "metadata": {
    "ExecuteTime": {
     "end_time": "2024-05-04T23:50:05.820685Z",
     "start_time": "2024-05-04T23:50:05.182904Z"
    }
   },
   "outputs": [
    {
     "name": "stdout",
     "output_type": "stream",
     "text": [
      "El resultado de la integral con la regla de Simpson con  10  intervalos es:  38.2931864815147\n",
      "El resultado de la integral con la regla del trapecio con  10  intervalos es:  38.6059701279860\n",
      "\n",
      "\n",
      "El resultado de la integral con la regla de Simpson con  100  intervalos es:  38.2901578663220\n",
      "El resultado de la integral con la regla del trapecio con  100  intervalos es:  38.2933236050509\n",
      "\n",
      "\n",
      "El resultado de la integral con la regla de Simpson con  1000  intervalos es:  38.2901575394800\n",
      "El resultado de la integral con la regla del trapecio con  1000  intervalos es:  38.2901892009130\n",
      "\n",
      "\n"
     ]
    }
   ],
   "source": [
    "#Integral 2: de 1 a 5 con funcion e^x/x\n",
    "# Define the function\n",
    "f = sympify('(E**x)/x')\n",
    "x = symbols('x')\n",
    "a = 1\n",
    "b = 5\n",
    "\n",
    "# Create a for loop to calculate the integral with 3 increasing intervals of n\n",
    "for i in range(1, 4):\n",
    "    n = 10 ** i\n",
    "    integral_simpson_value, integral_trapezoidal_value = integral_calculation(f, a, b, n)\n",
    "    print(\"El resultado de la integral con la regla de Simpson con \", n, \" intervalos es: \", integral_simpson_value.evalf())\n",
    "    print(\"El resultado de la integral con la regla del trapecio con \", n, \" intervalos es: \", integral_trapezoidal_value.evalf())\n",
    "    print(\"\\n\")\n",
    "    "
   ]
  },
  {
   "cell_type": "markdown",
   "id": "3605276f3349c989",
   "metadata": {},
   "source": [
    "### Integral 3: de 0 a 2 con funcion e^-x^2"
   ]
  },
  {
   "cell_type": "code",
   "execution_count": 18,
   "id": "304379888e579999",
   "metadata": {
    "ExecuteTime": {
     "end_time": "2024-05-04T23:50:49.799064Z",
     "start_time": "2024-05-04T23:50:49.259464Z"
    }
   },
   "outputs": [
    {
     "name": "stdout",
     "output_type": "stream",
     "text": [
      "El resultado de la integral con la regla de Simpson con  10  intervalos es:  0.882074876854494\n",
      "El resultado de la integral con la regla del trapecio con  10  intervalos es:  0.881838810798775\n",
      "\n",
      "\n",
      "El resultado de la integral con la regla de Simpson con  100  intervalos es:  0.882081390111187\n",
      "El resultado de la integral con la regla del trapecio con  100  intervalos es:  0.882078948840043\n",
      "\n",
      "\n",
      "El resultado de la integral con la regla de Simpson con  1000  intervalos es:  0.882081390762356\n",
      "El resultado de la integral con la regla del trapecio con  1000  intervalos es:  0.882081366341587\n",
      "\n",
      "\n"
     ]
    }
   ],
   "source": [
    "#Integral 3: de 0 a 2 con funcion e^-x^2\n",
    "# Define the function\n",
    "f = sympify('E**(-x**2)')\n",
    "x = symbols('x')\n",
    "a = 0\n",
    "b = 2\n",
    "\n",
    "# Create a for loop to calculate the integral with 3 increasing intervals of n\n",
    "for i in range(1, 4):\n",
    "    n = 10 ** i\n",
    "    integral_simpson_value, integral_trapezoidal_value = integral_calculation(f, a, b, n)\n",
    "    print(\"El resultado de la integral con la regla de Simpson con \", n, \" intervalos es: \", integral_simpson_value.evalf())\n",
    "    print(\"El resultado de la integral con la regla del trapecio con \", n, \" intervalos es: \", integral_trapezoidal_value.evalf())\n",
    "    print(\"\\n\")"
   ]
  },
  {
   "metadata": {},
   "cell_type": "markdown",
   "source": [
    "## Getting wolfram alpha results for the integrals\n",
    "Para la pregunta 4. Parte c)"
   ],
   "id": "62cfe665fd3cdd59"
  },
  {
   "metadata": {
    "ExecuteTime": {
     "end_time": "2024-05-05T03:38:08.391091Z",
     "start_time": "2024-05-05T03:38:08.379123Z"
    }
   },
   "cell_type": "code",
   "source": [
    "from wolframclient.evaluation import WolframLanguageSession\n",
    "from wolframclient.language import wl, wlexpr\n",
    "def wolfram_integral(f, a, b):\n",
    "    # Start a session with the Wolfram Engine\n",
    "    with WolframLanguageSession() as session:\n",
    "        # Define the function\n",
    "        session.evaluate(wlexpr('f[x_] := ' + f))\n",
    "        \n",
    "        # Integrate the function from a to b\n",
    "        result = session.evaluate(wlexpr('NIntegrate[f[x], {x, ' + str(a) + ', ' + str(b) + '}]'))\n",
    "        \n",
    "        # Close the session\n",
    "        session.terminate()\n",
    "        \n",
    "        return result"
   ],
   "id": "2840b23669142e6c",
   "outputs": [],
   "execution_count": 125
  },
  {
   "metadata": {},
   "cell_type": "markdown",
   "source": "### Integral 1: de 0 a pi con funcion sqrt(sin(x)) en wolfram\n",
   "id": "824ffde63465fb3e"
  },
  {
   "metadata": {
    "ExecuteTime": {
     "end_time": "2024-05-05T03:38:11.837961Z",
     "start_time": "2024-05-05T03:38:10.533920Z"
    }
   },
   "cell_type": "code",
   "source": [
    "# Integral 1: de 0 a pi con funcion sqrt(sin(x)) en wolfram\n",
    "f = 'Sqrt[Sin[x]]'\n",
    "a = 0\n",
    "b = 'Pi'\n",
    "wolfram_result = wolfram_integral(f, a, b)\n",
    "print(\"El resultado de la integral en Wolfram Alpha es: \", wolfram_result)\n"
   ],
   "id": "4523c95424454002",
   "outputs": [
    {
     "name": "stdout",
     "output_type": "stream",
     "text": [
      "El resultado de la integral en Wolfram Alpha es:  2.3962804694712383\n"
     ]
    }
   ],
   "execution_count": 126
  },
  {
   "metadata": {},
   "cell_type": "markdown",
   "source": "### Integral 2: de 1 a 5 con funcion e^x/x en wolfram",
   "id": "17db3f940d180583"
  },
  {
   "metadata": {
    "ExecuteTime": {
     "end_time": "2024-05-05T03:38:41.759347Z",
     "start_time": "2024-05-05T03:38:40.431745Z"
    }
   },
   "cell_type": "code",
   "source": [
    "# Integral 2: de 1 a 5 con funcion e^x/x en wolfram\n",
    "f = 'Exp[x]/x'\n",
    "a = 1\n",
    "b = 5\n",
    "wolfram_result = wolfram_integral(f, a, b)\n",
    "print(\"El resultado de la integral en Wolfram Alpha es: \", wolfram_result)"
   ],
   "id": "b70216f4321d45a9",
   "outputs": [
    {
     "name": "stdout",
     "output_type": "stream",
     "text": [
      "El resultado de la integral en Wolfram Alpha es:  38.290157539455954\n"
     ]
    }
   ],
   "execution_count": 127
  },
  {
   "metadata": {},
   "cell_type": "markdown",
   "source": "### Integral 3: de 0 a 2 con funcion e^-x^2 en wolfram",
   "id": "5421679546dbbfa2"
  },
  {
   "metadata": {
    "ExecuteTime": {
     "end_time": "2024-05-05T03:39:32.415814Z",
     "start_time": "2024-05-05T03:39:31.110864Z"
    }
   },
   "cell_type": "code",
   "source": [
    "# Integral 3: de 0 a 2 con funcion e^-x^2 en wolfram\n",
    "f = 'Exp[-x^2]'\n",
    "a = 0\n",
    "b = 2\n",
    "wolfram_result = wolfram_integral(f, a, b)\n",
    "print(\"El resultado de la integral en Wolfram Alpha es: \", wolfram_result)"
   ],
   "id": "195cba15cbf9cd61",
   "outputs": [
    {
     "name": "stdout",
     "output_type": "stream",
     "text": [
      "El resultado de la integral en Wolfram Alpha es:  0.8820813907624228\n"
     ]
    }
   ],
   "execution_count": 128
  },
  {
   "cell_type": "markdown",
   "id": "dc6e4d8ddbfb3452",
   "metadata": {},
   "source": [
    "## Calculate the minimum number of intervals to make the error less than 0.000001 for the given integral\n",
    "Respondiendo la pregunta 4. Parte e)."
   ]
  },
  {
   "cell_type": "code",
   "id": "d5dcb7aa0db4085",
   "metadata": {
    "ExecuteTime": {
     "end_time": "2024-05-05T03:52:52.657117Z",
     "start_time": "2024-05-05T03:52:33.438456Z"
    }
   },
   "source": [
    "# On the integral from 1 to 5 fo the function e^x/x, search what values of n make the error less than 0.000001 using Simpson's rule\n",
    "\n",
    "# Define the function\n",
    "f = sympify('(E**x)/x')\n",
    "x = symbols('x')\n",
    "a = 1\n",
    "b = 5\n",
    "\n",
    "# create a while loop to find the value of n that makes the error less than 0.000001\n",
    "n = 1\n",
    "error_simpson = 1\n",
    "while error_simpson > 0.000001:\n",
    "    n += 1\n",
    "    error_simpson = error_calculation(f, a, b, n)[1]\n",
    "\n",
    "print(\"The value of n that makes the error less than 0.000001 is: \", n)"
   ],
   "outputs": [
    {
     "name": "stdout",
     "output_type": "stream",
     "text": [
      "The value of n that makes the error less than 0.000001 is:  109\n"
     ]
    }
   ],
   "execution_count": 129
  },
  {
   "metadata": {},
   "cell_type": "code",
   "outputs": [],
   "execution_count": null,
   "source": "",
   "id": "8ffb416015548b0"
  }
 ],
 "metadata": {
  "kernelspec": {
   "display_name": "Python 3 (ipykernel)",
   "language": "python",
   "name": "python3"
  },
  "language_info": {
   "codemirror_mode": {
    "name": "ipython",
    "version": 3
   },
   "file_extension": ".py",
   "mimetype": "text/x-python",
   "name": "python",
   "nbconvert_exporter": "python",
   "pygments_lexer": "ipython3",
   "version": "3.11.7"
  }
 },
 "nbformat": 4,
 "nbformat_minor": 5
}
